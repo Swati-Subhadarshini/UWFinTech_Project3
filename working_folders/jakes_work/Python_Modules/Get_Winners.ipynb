{
 "cells": [
  {
   "cell_type": "code",
   "execution_count": 4,
   "id": "284969af-1825-4663-a0dd-652602fe6af3",
   "metadata": {},
   "outputs": [],
   "source": [
    "from sportsipy.nfl.boxscore import Boxscores, Boxscore\n",
    "import pandas as pd"
   ]
  },
  {
   "cell_type": "code",
   "execution_count": 37,
   "id": "a6877ec4-d0b4-4a61-8da1-41d90d3c8a53",
   "metadata": {},
   "outputs": [],
   "source": [
    "def get_week_schedule(week, year):\n",
    "    date_string = str(week) + '-' + str(year)\n",
    "    week_scores = Boxscores(week,year)\n",
    "    week_games_df = pd.DataFrame()\n",
    "    for g in range(len(week_scores.games[date_string])):\n",
    "        game = pd.DataFrame(week_scores.games[date_string][g], index = [0])[['away_name', 'away_abbr','away_score','home_name', 'home_abbr','home_score','winning_name', 'winning_abbr' ]]\n",
    "        game['week'] = week\n",
    "        week_games_df = pd.concat([week_games_df, game])\n",
    "    return week_games_df"
   ]
  },
  {
   "cell_type": "code",
   "execution_count": 39,
   "id": "29e9ff52-34b6-4aae-a538-6f68b9331ce3",
   "metadata": {},
   "outputs": [
    {
     "data": {
      "text/html": [
       "<div>\n",
       "<style scoped>\n",
       "    .dataframe tbody tr th:only-of-type {\n",
       "        vertical-align: middle;\n",
       "    }\n",
       "\n",
       "    .dataframe tbody tr th {\n",
       "        vertical-align: top;\n",
       "    }\n",
       "\n",
       "    .dataframe thead th {\n",
       "        text-align: right;\n",
       "    }\n",
       "</style>\n",
       "<table border=\"1\" class=\"dataframe\">\n",
       "  <thead>\n",
       "    <tr style=\"text-align: right;\">\n",
       "      <th></th>\n",
       "      <th>away_name</th>\n",
       "      <th>away_abbr</th>\n",
       "      <th>away_score</th>\n",
       "      <th>home_name</th>\n",
       "      <th>home_abbr</th>\n",
       "      <th>home_score</th>\n",
       "      <th>winning_name</th>\n",
       "      <th>winning_abbr</th>\n",
       "      <th>week</th>\n",
       "    </tr>\n",
       "  </thead>\n",
       "  <tbody>\n",
       "    <tr>\n",
       "      <th>0</th>\n",
       "      <td>Cincinnati Bengals</td>\n",
       "      <td>cin</td>\n",
       "      <td>None</td>\n",
       "      <td>Kansas City Chiefs</td>\n",
       "      <td>kan</td>\n",
       "      <td>None</td>\n",
       "      <td>None</td>\n",
       "      <td>None</td>\n",
       "      <td>21</td>\n",
       "    </tr>\n",
       "    <tr>\n",
       "      <th>0</th>\n",
       "      <td>San Francisco 49ers</td>\n",
       "      <td>sfo</td>\n",
       "      <td>None</td>\n",
       "      <td>Los Angeles Rams</td>\n",
       "      <td>ram</td>\n",
       "      <td>None</td>\n",
       "      <td>None</td>\n",
       "      <td>None</td>\n",
       "      <td>21</td>\n",
       "    </tr>\n",
       "  </tbody>\n",
       "</table>\n",
       "</div>"
      ],
      "text/plain": [
       "             away_name away_abbr away_score           home_name home_abbr  \\\n",
       "0   Cincinnati Bengals       cin       None  Kansas City Chiefs       kan   \n",
       "0  San Francisco 49ers       sfo       None    Los Angeles Rams       ram   \n",
       "\n",
       "  home_score winning_name winning_abbr  week  \n",
       "0       None         None         None    21  \n",
       "0       None         None         None    21  "
      ]
     },
     "execution_count": 39,
     "metadata": {},
     "output_type": "execute_result"
    }
   ],
   "source": [
    "get_week_schedule(21,2021)"
   ]
  },
  {
   "cell_type": "code",
   "execution_count": 25,
   "id": "2a4ae2ad-5272-4385-b9f4-af4db478d861",
   "metadata": {},
   "outputs": [],
   "source": [
    "week_scores = Boxscores(20,2021)"
   ]
  },
  {
   "cell_type": "code",
   "execution_count": 27,
   "id": "1c4585b8-5a18-4c82-bea6-a14ddc538c2a",
   "metadata": {},
   "outputs": [
    {
     "data": {
      "text/plain": [
       "{'20-2021': [{'boxscore': '202201220oti',\n",
       "   'away_name': 'Cincinnati Bengals',\n",
       "   'away_abbr': 'cin',\n",
       "   'away_score': 19,\n",
       "   'home_name': 'Tennessee Titans',\n",
       "   'home_abbr': 'oti',\n",
       "   'home_score': 16,\n",
       "   'winning_name': 'Cincinnati Bengals',\n",
       "   'winning_abbr': 'cin',\n",
       "   'losing_name': 'Tennessee Titans',\n",
       "   'losing_abbr': 'oti'},\n",
       "  {'boxscore': '202201220gnb',\n",
       "   'away_name': 'San Francisco 49ers',\n",
       "   'away_abbr': 'sfo',\n",
       "   'away_score': 13,\n",
       "   'home_name': 'Green Bay Packers',\n",
       "   'home_abbr': 'gnb',\n",
       "   'home_score': 10,\n",
       "   'winning_name': 'San Francisco 49ers',\n",
       "   'winning_abbr': 'sfo',\n",
       "   'losing_name': 'Green Bay Packers',\n",
       "   'losing_abbr': 'gnb'},\n",
       "  {'boxscore': '202201230tam',\n",
       "   'away_name': 'Los Angeles Rams',\n",
       "   'away_abbr': 'ram',\n",
       "   'away_score': 30,\n",
       "   'home_name': 'Tampa Bay Buccaneers',\n",
       "   'home_abbr': 'tam',\n",
       "   'home_score': 27,\n",
       "   'winning_name': 'Los Angeles Rams',\n",
       "   'winning_abbr': 'ram',\n",
       "   'losing_name': 'Tampa Bay Buccaneers',\n",
       "   'losing_abbr': 'tam'},\n",
       "  {'boxscore': '202201230kan',\n",
       "   'away_name': 'Buffalo Bills',\n",
       "   'away_abbr': 'buf',\n",
       "   'away_score': 36,\n",
       "   'home_name': 'Kansas City Chiefs',\n",
       "   'home_abbr': 'kan',\n",
       "   'home_score': 42,\n",
       "   'winning_name': 'Kansas City Chiefs',\n",
       "   'winning_abbr': 'kan',\n",
       "   'losing_name': 'Buffalo Bills',\n",
       "   'losing_abbr': 'buf'}]}"
      ]
     },
     "execution_count": 27,
     "metadata": {},
     "output_type": "execute_result"
    }
   ],
   "source": [
    "week_scores.games"
   ]
  },
  {
   "cell_type": "code",
   "execution_count": null,
   "id": "670dc63e-d6c3-4f42-9a01-a7d23644e5bf",
   "metadata": {},
   "outputs": [],
   "source": []
  }
 ],
 "metadata": {
  "kernelspec": {
   "display_name": "Python 3 (ipykernel)",
   "language": "python",
   "name": "python3"
  },
  "language_info": {
   "codemirror_mode": {
    "name": "ipython",
    "version": 3
   },
   "file_extension": ".py",
   "mimetype": "text/x-python",
   "name": "python",
   "nbconvert_exporter": "python",
   "pygments_lexer": "ipython3",
   "version": "3.7.11"
  }
 },
 "nbformat": 4,
 "nbformat_minor": 5
}
